{
 "metadata": {
  "name": "",
  "signature": "sha256:a7ad1dda6b7f0aafd95d32158f7f77aabe8089001ba5f7b011aef7243f446281"
 },
 "nbformat": 3,
 "nbformat_minor": 0,
 "worksheets": [
  {
   "cells": [
    {
     "cell_type": "heading",
     "level": 1,
     "metadata": {},
     "source": [
      "Kolbotn Tennisklubb Challenge vinteren 2015"
     ]
    },
    {
     "cell_type": "markdown",
     "metadata": {},
     "source": [
      "Denne vinteren arrangerer Kolbotn Tennisklubb en turnering for alle aktive spillere! Det er helt gratis \u00e5 delta!\n",
      "\n",
      "Hva du m\u00e5 gj\u00f8re:\n",
      "\n",
      "1. Melde deg p\u00e5 med navn, alder, nummer og niv\u00e5 (i kommentarboksen) via denne linken: http://www.kolbotntennis.no/avdelinger/hovedlaget/venstremeny/kalender/?tx_cal_controller[getdate]=20150209&tx_cal_controller[view]=event&tx_cal_controller[type]=tx_cal_phpicalendar&tx_cal_controller[uid]=119&tx_cal_controller[lastview]=view-month|page_id-1244&cHash=0e8462342d\n",
      "2. Sjekke ut hvilke motstandere du skal m\u00f8te n\u00e5r timeoppsettet kommer p\u00e5 denne siden.\n",
      "3. Ringe motstanderen og avtale tid der du st\u00e5r oppf\u00f8rt som ansvarlig for kampen.\n",
      "4. Leie time i bobla via v\u00e5r banereservansjonsside (del leien med motstanderen din): http://www.kolbotntennis.no/avdelinger/hovedlaget/venstremeny/banereservasjon/.\n",
      "5. Melde inn resultatet til meg via dette resultatsskjemaet dersom du st\u00e5r som ansvarlig: https://docs.google.com/forms/d/1mR0KoJ2_oekyBcOu93-HYDq95kBj0WH2RNMKALWDuJI/viewform?usp=send_form\n",
      "6. Passe p\u00e5 at du f\u00e5r spilt alle kampene dine innen bobla tas ned 24. april\n",
      "\n",
      "Regler:\n",
      "\n",
      "- Dersom ditt navn er uthevet i **fet skrift**, er du ansvarlig for \u00e5 ta kontakt og at kampen blir spilt.\n",
      "- Dersom du ikke f\u00e5r tak i motstanderen etter \u00e5 ha pr\u00f8vd i et tidsrom p\u00e5 minst to uker s\u00e5 melder dere kampen inn som seier. Jeg oppfordrer til de som ikke er ansvarlige for kampen \u00e5 ta kontakt hvis de ikke h\u00f8rer noe p\u00e5 en stund.\n",
      "- Vi kj\u00f8rer cirka 50 minutters kamper p\u00e5 tid (10 min oppvarming) og teller antall game. Dersom det er uavgjort etter ferdig tid s\u00e5 meldes det. PS: Dere melder ikke inn hva stillingen blir (bare hvem som vinner/uavgjort) s\u00e5 dere st\u00e5r helt fritt til \u00e5 velge om dere vil ha et annet tellesystem, dette er bare veiledende.\n",
      "- Antall kamper kommer helt an p\u00e5 deltakelse, men jeg tenker maks 5 per spiller uansett.\n",
      "- Kampene kan spilles n\u00e5r som helst, men det er mest ledig sent p\u00e5 kveld i hverdagene eller i helgene.\n",
      "- Dersom kampen ikke er rapportert inn innen bobla g\u00e5r ned 24. april, vil person som ikke er ansvarlig f\u00e5 seieren.\n",
      "\n",
      "Premier:\n",
      "\n",
      "**Beste tennisspiller**\n",
      "\n",
      "*Dette er den spilleren som har tennissjelen i seg og motstanderene liker \u00e5 spille mot. Enten p\u00e5 grunn av at hun/han er opptatt av fair play, at dere hadde en veldig bra kamp sammen, at hun/han er god vinner/taper eller en helt annen grunn.* Nomineres her: https://docs.google.com/forms/d/1idKAH5g5ZRzXtPIJvF7pRpBkroui-onfXfxlaH8xTVU/viewform?usp=send_form\n",
      "\n",
      "**Beste kampansvarlig**\n",
      "\n",
      "*Var mostanderen din en utrolig flink til \u00e5 v\u00e6re ansvarlig for kampen? Du ble kontaktet tidlig og det var klart n\u00e5r dere skulle spille og betalingen av timen gikk kjempe fint.* Nomineres her: https://docs.google.com/forms/d/1EFj7R9LdSIsjQdDX-YCe1K71Du5kwZwgvB6BpYnJAiU/viewform?usp=send_form\n",
      "\n",
      "Andre id\u00e9er? \n",
      "\n",
      "Niv\u00e5er:\n",
      "\n",
      "**Niv\u00e5 1**\n",
      "\n",
      "*Du har liten eller ingen erfaring med \u00e5 spille tenniskamper, men har lyst til \u00e5 pr\u00f8ve deg litt og har kanskje v\u00e6rt med i det laveste niv\u00e5et i vinterserien.*\n",
      "\n",
      "**Niv\u00e5 2**\n",
      "\n",
      "*Du har spilt i tennis en god stund og kanskje v\u00e6rt med i de to h\u00f8yeste niv\u00e5ene i vinterserien f\u00f8r eller du er junior i U14 og U16.*\n",
      "\n",
      "**Niv\u00e5 3**\n",
      "\n",
      "*Du har spilt mye tennis og ligget i toppen av vinterserien f\u00f8r og kanskje ambisjoner om \u00e5 spille klubbmesterskap til h\u00f8sten (du kan godt v\u00e6re junior fortsatt).*\n",
      "\n",
      "\n",
      "Er det noen sp\u00f8rsm\u00e5l s\u00e5 send mail til ktkjunior@hotmail.com (Merk emne med KTC:)\n",
      "\n",
      "Lykke til!"
     ]
    }
   ],
   "metadata": {}
  }
 ]
}