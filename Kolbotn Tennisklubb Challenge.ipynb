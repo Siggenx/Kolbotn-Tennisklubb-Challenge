{
 "metadata": {
  "name": "",
  "signature": "sha256:01202668c9b5865c7c7758fc6dba9c57e1777f7feab93fbb2790f4d96225d81b"
 },
 "nbformat": 3,
 "nbformat_minor": 0,
 "worksheets": [
  {
   "cells": [
    {
     "cell_type": "heading",
     "level": 1,
     "metadata": {},
     "source": [
      "Kolbotn Tennisklubb Challenge vinteren 2015"
     ]
    },
    {
     "cell_type": "markdown",
     "metadata": {},
     "source": [
      "Denne vinteren arrangerer Kolbotn Tennisklubb en turnering for alle aktive fra 13 \u00e5r (f\u00f8dt 2002) og eldre (alst\u00e5 voksne). Det er helt gratis \u00e5 delta!\n",
      "\n",
      "Hva du m\u00e5 gj\u00f8re:\n",
      "\n",
      "1. Melde deg p\u00e5 med navn, alder, nummer og niv\u00e5 (i kommentarboksen) via denne linken: http://www.kolbotntennis.no/avdelinger/hovedlaget/venstremeny/kalender/?tx_cal_controller[getdate]=20150209&tx_cal_controller[view]=event&tx_cal_controller[type]=tx_cal_phpicalendar&tx_cal_controller[uid]=119&tx_cal_controller[lastview]=view-month|page_id-1244&cHash=0e8462342d\n",
      "2. Sjekke ut hvilke motstandere du skal m\u00f8te n\u00e5r timeoppsettet kommer p\u00e5 denne siden.\n",
      "3. Ringe motstanderen og avtale tid der du st\u00e5r oppf\u00f8rt som ansvarlig for kampen.\n",
      "4. Leie time i bobla via v\u00e5r banereservansjonsside (del leien med motstanderen din): http://www.kolbotntennis.no/avdelinger/hovedlaget/venstremeny/banereservasjon/.\n",
      "5. Melde inn resultatet til meg via dette resultatsskjemaet dersom du st\u00e5r som ansvarlig: https://docs.google.com/forms/d/1mR0KoJ2_oekyBcOu93-HYDq95kBj0WH2RNMKALWDuJI/viewform?usp=send_form\n",
      "6. Passe p\u00e5 at du f\u00e5r spilt alle kampene dine innen bobla tas ned 24. april\n",
      "\n",
      "Regler:\n",
      "\n",
      "- Jeg har bare ansvar for p\u00e5melding og finne motstandere. Dere har alt ansvaret p\u00e5 \u00e5 f\u00e5 gjennomf\u00f8rt kampene dere imellom.\n",
      "- Dersom dere ikke f\u00e5r tak i motstanderen etter \u00e5 ha pr\u00f8vd i et tidsrom p\u00e5 minst to uker s\u00e5 melder dere kampen inn som seier. Jeg oppfordrer til de som ikke er ansvarlige for kampen \u00e5 ta kontakt hvis de ikke h\u00f8rer noe p\u00e5 en stund.\n",
      "- Vi kj\u00f8rer cirka 50 minutters kamper p\u00e5 tid (10 min oppvarming) og teller antall game. Dersom det er uavgjort etter ferdig tid s\u00e5 meldes det. PS: Dere melder ikke inn hva stillingen blir (bare hvem som vinner/uavgjort) s\u00e5 dere st\u00e5r helt fritt til \u00e5 velge om dere vil ha et annet tellesystem, dette er bare veiledende.\n",
      "- Antall kamper kommer helt an p\u00e5 deltakelse, men jeg tenker maks 5 per spiller uansett.\n",
      "- Kampene kan spilles n\u00e5r som helst, men det er mest ledig sent p\u00e5 kveld i hverdagene eller i helgene.\n",
      "\n",
      "Premier:\n",
      "\n",
      "- Beste tennisspiller\n",
      "    . Dette er den spilleren som har tennissjelen i seg og motstanderene liker \u00e5 spille mot. Enten p\u00e5 grunn av at hun/han er opptatt av fair play, at dere hadde en veldig bra kamp sammen, at hun/han er god vinner/taper eller en helt annen grunn. Nomineres her: https://docs.google.com/forms/d/1idKAH5g5ZRzXtPIJvF7pRpBkroui-onfXfxlaH8xTVU/viewform?usp=send_form\n",
      "- Beste kampansvarlig\n",
      "    . Var mostanderen din en utrolig flink til \u00e5 v\u00e6re ansvarlig for kampen? Du ble kontaktet tidlig og det var klart n\u00e5r dere skulle spille og betalingen av timen gikk kjempe fint. Nomineres her: https://docs.google.com/forms/d/1EFj7R9LdSIsjQdDX-YCe1K71Du5kwZwgvB6BpYnJAiU/viewform?usp=send_form\n",
      "- Andre id\u00e9er?\n",
      "\n",
      "Niv\u00e5er:\n",
      "\n",
      "- Niv\u00e5 1: Du har begynt \u00e5 spille tennis det siste \u00e5ret eller to og kanskje v\u00e6rt i laveste niv\u00e5 i vinterserien f\u00f8r eller du er juniorspiller i U14 klassen.\n",
      "- Niv\u00e5 2: Du har spilt i tennis en god stund og kanskje v\u00e6rt med i de to h\u00f8yeste niv\u00e5ene i vinterserien f\u00f8r eller du er junior og 15 \u00e5r eller eldre.\n",
      "- Niv\u00e5 3: Du har spilt mye tennis og ligget i toppen av vinterserien f\u00f8r og kanskje ambisjoner om \u00e5 spille klubbmesterskap til h\u00f8sten (du kan godt v\u00e6re junior fortsatt alts\u00e5).\n",
      "\n",
      "Det er vanskelig \u00e5 sette slike niv\u00e5er. Mitt forslag er at du melder deg i \u00e9n av de og s\u00e5 kan man evt bytte til neste sesong. Jeg kjenner ganske mange av dere og s\u00e5 jeg ser om det er helt feil niv\u00e5.\n",
      "\n",
      "Er det noen sp\u00f8rsm\u00e5l s\u00e5 send mail til ktkjunior@hotmail.com (Merk emne med KTC:)\n",
      "\n",
      "Lykke til!"
     ]
    }
   ],
   "metadata": {}
  }
 ]
}