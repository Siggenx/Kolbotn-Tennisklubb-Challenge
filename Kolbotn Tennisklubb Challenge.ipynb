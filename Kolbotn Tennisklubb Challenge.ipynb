{
 "metadata": {
  "name": "",
  "signature": "sha256:b5d5e5d2e2da2a74cb839d821115c780084cc54227b1a5a8abf75f6744aca35e"
 },
 "nbformat": 3,
 "nbformat_minor": 0,
 "worksheets": [
  {
   "cells": [
    {
     "cell_type": "heading",
     "level": 1,
     "metadata": {},
     "source": [
      "Kolbotn Tennisklubb Challenge vinteren 2015"
     ]
    },
    {
     "cell_type": "markdown",
     "metadata": {},
     "source": [
      "Denne vinteren arrangerer Kolbotn Tennisklubb en turnering for alle aktive spillere! Det er helt gratis \u00e5 delta!\n",
      "\n",
      "Hva du m\u00e5 gj\u00f8re:\n",
      "\n",
      "1. Melde deg p\u00e5 med navn, alder, nummer og niv\u00e5 (i kommentarboksen) via denne linken: http://www.kolbotntennis.no/avdelinger/hovedlaget/venstremeny/kalender/?tx_cal_controller[getdate]=20150209&tx_cal_controller[view]=event&tx_cal_controller[type]=tx_cal_phpicalendar&tx_cal_controller[uid]=119&tx_cal_controller[lastview]=view-month|page_id-1244&cHash=0e8462342d\n",
      "2. Sjekke ut hvilke motstandere du skal m\u00f8te n\u00e5r timeoppsettet kommer p\u00e5 denne siden.\n",
      "3. Ringe motstanderen og avtale tid der du st\u00e5r oppf\u00f8rt som ansvarlig for kampen.\n",
      "4. Leie time i bobla via v\u00e5r banereservansjonsside (del leien med motstanderen din): http://www.kolbotntennis.no/avdelinger/hovedlaget/venstremeny/banereservasjon/.\n",
      "5. Melde inn resultatet til meg via dette resultatsskjemaet dersom du st\u00e5r som ansvarlig: https://docs.google.com/forms/d/1mR0KoJ2_oekyBcOu93-HYDq95kBj0WH2RNMKALWDuJI/viewform?usp=send_form\n",
      "6. Passe p\u00e5 at du f\u00e5r spilt alle kampene dine innen bobla tas ned 24. april\n",
      "\n",
      "Regler:\n",
      "\n",
      "- Dersom ditt navn er uthevet i **fet skrift**, er du ansvarlig for \u00e5 ta kontakt og at kampen blir spilt.\n",
      "- Dersom du ikke f\u00e5r tak i motstanderen etter \u00e5 ha pr\u00f8vd i et tidsrom p\u00e5 minst to uker s\u00e5 melder dere kampen inn som seier. Jeg oppfordrer til de som ikke er ansvarlige for kampen \u00e5 ta kontakt hvis de ikke h\u00f8rer noe p\u00e5 en stund.\n",
      "- Vi kj\u00f8rer cirka 50 minutters kamper p\u00e5 tid (10 min oppvarming) og teller antall game. Dersom det er uavgjort etter ferdig tid s\u00e5 meldes det. PS: Dere melder ikke inn hva stillingen blir (bare hvem som vinner/uavgjort) s\u00e5 dere st\u00e5r helt fritt til \u00e5 velge om dere vil ha et annet tellesystem, dette er bare veiledende.\n",
      "- Antall kamper kommer helt an p\u00e5 deltakelse, men jeg tenker maks 5 per spiller uansett.\n",
      "- Kampene kan spilles n\u00e5r som helst, men det er mest ledig sent p\u00e5 kveld i hverdagene eller i helgene.\n",
      "- Dersom kampen ikke er rapportert inn innen bobla g\u00e5r ned 24. april, vil person som ikke er ansvarlig f\u00e5 seieren.\n",
      "\n",
      "Premier:\n",
      "\n",
      "**Beste tennisspiller**\n",
      "\n",
      "*Dette er den spilleren som har tennissjelen i seg og motstanderene liker \u00e5 spille mot. Enten p\u00e5 grunn av at hun/han er opptatt av fair play, at dere hadde en veldig bra kamp sammen, at hun/han er god vinner/taper eller en helt annen grunn.* Nomineres her: https://docs.google.com/forms/d/1idKAH5g5ZRzXtPIJvF7pRpBkroui-onfXfxlaH8xTVU/viewform?usp=send_form\n",
      "\n",
      "**Beste kampansvarlig**\n",
      "\n",
      "*Var mostanderen din en utrolig flink til \u00e5 v\u00e6re ansvarlig for kampen? Du ble kontaktet tidlig og det var klart n\u00e5r dere skulle spille og betalingen av timen gikk kjempe fint.* Nomineres her: https://docs.google.com/forms/d/1EFj7R9LdSIsjQdDX-YCe1K71Du5kwZwgvB6BpYnJAiU/viewform?usp=send_form\n",
      "\n",
      "Andre id\u00e9er? \n",
      "\n",
      "Niv\u00e5er:\n",
      "\n",
      "**Niv\u00e5 1**\n",
      "\n",
      "*Du har liten eller ingen erfaring med \u00e5 spille tenniskamper, men har lyst til \u00e5 pr\u00f8ve deg litt og har kanskje v\u00e6rt med i det laveste niv\u00e5et i vinterserien.*\n",
      "\n",
      "**Niv\u00e5 2**\n",
      "\n",
      "*Du har spilt i tennis en god stund og kanskje v\u00e6rt med i de to h\u00f8yeste niv\u00e5ene i vinterserien f\u00f8r eller du er junior i U14 og U16.*\n",
      "\n",
      "**Niv\u00e5 3**\n",
      "\n",
      "*Du har spilt mye tennis og ligget i toppen av vinterserien f\u00f8r og kanskje ambisjoner om \u00e5 spille klubbmesterskap til h\u00f8sten (du kan godt v\u00e6re junior fortsatt).*\n",
      "\n",
      "\n",
      "Er det noen sp\u00f8rsm\u00e5l s\u00e5 send mail til ktkjunior@hotmail.com (Merk emne med KTC:)\n",
      "\n",
      "Lykke til!"
     ]
    },
    {
     "cell_type": "code",
     "collapsed": false,
     "input": [
      "import random\n",
      "import pandas as pd\n",
      "nivaa2 = {'Stian Maritinius Tellefsen': 0, 'Markus Nord': 0, 'Ariel Sverre Granlund': 0, 'Sam Gharavi': 0, 'Anne-Mette Brenni Gulbrandsen': 0}\n",
      "nivaa3 = {'Jon William Karlstad': 0, 'Rudi Karlstad': 0, 'Albert Wed\u00f8e': 0, 'Tor Steven Gilb': 0, 'Victor Kristensen': 0}\n",
      "kamper = pd.DataFrame(columns=('Ansvarlig for kampen', 'Motstander')) \n",
      "kamp_nr = 0\n",
      "antall_kamper = 3\n",
      "for nivaa in [nivaa2, nivaa3]:\n",
      "    while not nivaa.values() == [antall_kamper] * len(nivaa):\n",
      "        spiller1 = random.choice(nivaa.keys())\n",
      "        spiller2 = random.choice([x for x in nivaa.keys() if x != spiller1])\n",
      "        if not (((kamper['Ansvarlig for kampen'] == spiller1) & (kamper['Motstander'] == spiller2)).any() |\n",
      "                ((kamper['Ansvarlig for kampen'] == spiller2) & (kamper['Motstander'] == spiller1)).any() |\n",
      "                  (nivaa[spiller1] == antall_kamper) | (nivaa[spiller2] == antall_kamper)):\n",
      "            kamper.loc[kamp_nr] = [spiller1, spiller2]\n",
      "            nivaa[spiller1] += 1\n",
      "            nivaa[spiller2] += 1\n",
      "            kamp_nr += 1\n",
      "kamper"
     ],
     "language": "python",
     "metadata": {},
     "outputs": [
      {
       "ename": "KeyboardInterrupt",
       "evalue": "",
       "output_type": "pyerr",
       "traceback": [
        "\u001b[1;31m---------------------------------------------------------------------------\u001b[0m\n\u001b[1;31mKeyboardInterrupt\u001b[0m                         Traceback (most recent call last)",
        "\u001b[1;32m<ipython-input-11-189e42af98fc>\u001b[0m in \u001b[0;36m<module>\u001b[1;34m()\u001b[0m\n\u001b[0;32m     12\u001b[0m         if not (((kamper['Ansvarlig for kampen'] == spiller1) & (kamper['Motstander'] == spiller2)).any() |\n\u001b[0;32m     13\u001b[0m                 \u001b[1;33m(\u001b[0m\u001b[1;33m(\u001b[0m\u001b[0mkamper\u001b[0m\u001b[1;33m[\u001b[0m\u001b[1;34m'Ansvarlig for kampen'\u001b[0m\u001b[1;33m]\u001b[0m \u001b[1;33m==\u001b[0m \u001b[0mspiller2\u001b[0m\u001b[1;33m)\u001b[0m \u001b[1;33m&\u001b[0m \u001b[1;33m(\u001b[0m\u001b[0mkamper\u001b[0m\u001b[1;33m[\u001b[0m\u001b[1;34m'Motstander'\u001b[0m\u001b[1;33m]\u001b[0m \u001b[1;33m==\u001b[0m \u001b[0mspiller1\u001b[0m\u001b[1;33m)\u001b[0m\u001b[1;33m)\u001b[0m\u001b[1;33m.\u001b[0m\u001b[0many\u001b[0m\u001b[1;33m(\u001b[0m\u001b[1;33m)\u001b[0m \u001b[1;33m|\u001b[0m\u001b[1;33m\u001b[0m\u001b[0m\n\u001b[1;32m---> 14\u001b[1;33m                   (nivaa[spiller1] == antall_kamper) | (nivaa[spiller2] == antall_kamper)):\n\u001b[0m\u001b[0;32m     15\u001b[0m             \u001b[0mkamper\u001b[0m\u001b[1;33m.\u001b[0m\u001b[0mloc\u001b[0m\u001b[1;33m[\u001b[0m\u001b[0mkamp_nr\u001b[0m\u001b[1;33m]\u001b[0m \u001b[1;33m=\u001b[0m \u001b[1;33m[\u001b[0m\u001b[0mspiller1\u001b[0m\u001b[1;33m,\u001b[0m \u001b[0mspiller2\u001b[0m\u001b[1;33m]\u001b[0m\u001b[1;33m\u001b[0m\u001b[0m\n\u001b[0;32m     16\u001b[0m             \u001b[0mnivaa\u001b[0m\u001b[1;33m[\u001b[0m\u001b[0mspiller1\u001b[0m\u001b[1;33m]\u001b[0m \u001b[1;33m+=\u001b[0m \u001b[1;36m1\u001b[0m\u001b[1;33m\u001b[0m\u001b[0m\n",
        "\u001b[1;32m/home/sigbjorn/anaconda/lib/python2.7/site-packages/pandas/core/ops.pyc\u001b[0m in \u001b[0;36mwrapper\u001b[1;34m(self, other)\u001b[0m\n\u001b[0;32m    627\u001b[0m             \u001b[0mname\u001b[0m \u001b[1;33m=\u001b[0m \u001b[0m_maybe_match_name\u001b[0m\u001b[1;33m(\u001b[0m\u001b[0mself\u001b[0m\u001b[1;33m,\u001b[0m \u001b[0mother\u001b[0m\u001b[1;33m)\u001b[0m\u001b[1;33m\u001b[0m\u001b[0m\n\u001b[0;32m    628\u001b[0m \u001b[1;33m\u001b[0m\u001b[0m\n\u001b[1;32m--> 629\u001b[1;33m             \u001b[0mother\u001b[0m \u001b[1;33m=\u001b[0m \u001b[0mother\u001b[0m\u001b[1;33m.\u001b[0m\u001b[0mreindex_like\u001b[0m\u001b[1;33m(\u001b[0m\u001b[0mself\u001b[0m\u001b[1;33m)\u001b[0m\u001b[1;33m.\u001b[0m\u001b[0mfillna\u001b[0m\u001b[1;33m(\u001b[0m\u001b[0mFalse\u001b[0m\u001b[1;33m)\u001b[0m\u001b[1;33m.\u001b[0m\u001b[0mastype\u001b[0m\u001b[1;33m(\u001b[0m\u001b[0mbool\u001b[0m\u001b[1;33m)\u001b[0m\u001b[1;33m\u001b[0m\u001b[0m\n\u001b[0m\u001b[0;32m    630\u001b[0m             return self._constructor(na_op(self.values, other.values),\n\u001b[0;32m    631\u001b[0m                                      \u001b[0mindex\u001b[0m\u001b[1;33m=\u001b[0m\u001b[0mself\u001b[0m\u001b[1;33m.\u001b[0m\u001b[0mindex\u001b[0m\u001b[1;33m,\u001b[0m\u001b[1;33m\u001b[0m\u001b[0m\n",
        "\u001b[1;32m/home/sigbjorn/anaconda/lib/python2.7/site-packages/pandas/core/generic.pyc\u001b[0m in \u001b[0;36mreindex_like\u001b[1;34m(self, other, method, copy, limit)\u001b[0m\n\u001b[0;32m   1433\u001b[0m         \"\"\"\n\u001b[0;32m   1434\u001b[0m         \u001b[0md\u001b[0m \u001b[1;33m=\u001b[0m \u001b[0mother\u001b[0m\u001b[1;33m.\u001b[0m\u001b[0m_construct_axes_dict\u001b[0m\u001b[1;33m(\u001b[0m\u001b[0mmethod\u001b[0m\u001b[1;33m=\u001b[0m\u001b[0mmethod\u001b[0m\u001b[1;33m,\u001b[0m \u001b[0mcopy\u001b[0m\u001b[1;33m=\u001b[0m\u001b[0mcopy\u001b[0m\u001b[1;33m,\u001b[0m \u001b[0mlimit\u001b[0m\u001b[1;33m=\u001b[0m\u001b[0mlimit\u001b[0m\u001b[1;33m)\u001b[0m\u001b[1;33m\u001b[0m\u001b[0m\n\u001b[1;32m-> 1435\u001b[1;33m         \u001b[1;32mreturn\u001b[0m \u001b[0mself\u001b[0m\u001b[1;33m.\u001b[0m\u001b[0mreindex\u001b[0m\u001b[1;33m(\u001b[0m\u001b[1;33m**\u001b[0m\u001b[0md\u001b[0m\u001b[1;33m)\u001b[0m\u001b[1;33m\u001b[0m\u001b[0m\n\u001b[0m\u001b[0;32m   1436\u001b[0m \u001b[1;33m\u001b[0m\u001b[0m\n\u001b[0;32m   1437\u001b[0m     \u001b[1;32mdef\u001b[0m \u001b[0mdrop\u001b[0m\u001b[1;33m(\u001b[0m\u001b[0mself\u001b[0m\u001b[1;33m,\u001b[0m \u001b[0mlabels\u001b[0m\u001b[1;33m,\u001b[0m \u001b[0maxis\u001b[0m\u001b[1;33m=\u001b[0m\u001b[1;36m0\u001b[0m\u001b[1;33m,\u001b[0m \u001b[0mlevel\u001b[0m\u001b[1;33m=\u001b[0m\u001b[0mNone\u001b[0m\u001b[1;33m,\u001b[0m \u001b[0minplace\u001b[0m\u001b[1;33m=\u001b[0m\u001b[0mFalse\u001b[0m\u001b[1;33m,\u001b[0m \u001b[1;33m**\u001b[0m\u001b[0mkwargs\u001b[0m\u001b[1;33m)\u001b[0m\u001b[1;33m:\u001b[0m\u001b[1;33m\u001b[0m\u001b[0m\n",
        "\u001b[1;32m/home/sigbjorn/anaconda/lib/python2.7/site-packages/pandas/core/series.pyc\u001b[0m in \u001b[0;36mreindex\u001b[1;34m(self, index, **kwargs)\u001b[0m\n\u001b[0;32m   2031\u001b[0m     \u001b[1;33m@\u001b[0m\u001b[0mAppender\u001b[0m\u001b[1;33m(\u001b[0m\u001b[0mgeneric\u001b[0m\u001b[1;33m.\u001b[0m\u001b[0m_shared_docs\u001b[0m\u001b[1;33m[\u001b[0m\u001b[1;34m'reindex'\u001b[0m\u001b[1;33m]\u001b[0m \u001b[1;33m%\u001b[0m \u001b[0m_shared_doc_kwargs\u001b[0m\u001b[1;33m)\u001b[0m\u001b[1;33m\u001b[0m\u001b[0m\n\u001b[0;32m   2032\u001b[0m     \u001b[1;32mdef\u001b[0m \u001b[0mreindex\u001b[0m\u001b[1;33m(\u001b[0m\u001b[0mself\u001b[0m\u001b[1;33m,\u001b[0m \u001b[0mindex\u001b[0m\u001b[1;33m=\u001b[0m\u001b[0mNone\u001b[0m\u001b[1;33m,\u001b[0m \u001b[1;33m**\u001b[0m\u001b[0mkwargs\u001b[0m\u001b[1;33m)\u001b[0m\u001b[1;33m:\u001b[0m\u001b[1;33m\u001b[0m\u001b[0m\n\u001b[1;32m-> 2033\u001b[1;33m         \u001b[1;32mreturn\u001b[0m \u001b[0msuper\u001b[0m\u001b[1;33m(\u001b[0m\u001b[0mSeries\u001b[0m\u001b[1;33m,\u001b[0m \u001b[0mself\u001b[0m\u001b[1;33m)\u001b[0m\u001b[1;33m.\u001b[0m\u001b[0mreindex\u001b[0m\u001b[1;33m(\u001b[0m\u001b[0mindex\u001b[0m\u001b[1;33m=\u001b[0m\u001b[0mindex\u001b[0m\u001b[1;33m,\u001b[0m \u001b[1;33m**\u001b[0m\u001b[0mkwargs\u001b[0m\u001b[1;33m)\u001b[0m\u001b[1;33m\u001b[0m\u001b[0m\n\u001b[0m\u001b[0;32m   2034\u001b[0m \u001b[1;33m\u001b[0m\u001b[0m\n\u001b[0;32m   2035\u001b[0m     \u001b[1;32mdef\u001b[0m \u001b[0mreindex_axis\u001b[0m\u001b[1;33m(\u001b[0m\u001b[0mself\u001b[0m\u001b[1;33m,\u001b[0m \u001b[0mlabels\u001b[0m\u001b[1;33m,\u001b[0m \u001b[0maxis\u001b[0m\u001b[1;33m=\u001b[0m\u001b[1;36m0\u001b[0m\u001b[1;33m,\u001b[0m \u001b[1;33m**\u001b[0m\u001b[0mkwargs\u001b[0m\u001b[1;33m)\u001b[0m\u001b[1;33m:\u001b[0m\u001b[1;33m\u001b[0m\u001b[0m\n",
        "\u001b[1;32m/home/sigbjorn/anaconda/lib/python2.7/site-packages/pandas/core/generic.pyc\u001b[0m in \u001b[0;36mreindex\u001b[1;34m(self, *args, **kwargs)\u001b[0m\n\u001b[0;32m   1610\u001b[0m                 for axis, ax in axes.items() if ax is not None]):\n\u001b[0;32m   1611\u001b[0m             \u001b[1;32mif\u001b[0m \u001b[0mcopy\u001b[0m\u001b[1;33m:\u001b[0m\u001b[1;33m\u001b[0m\u001b[0m\n\u001b[1;32m-> 1612\u001b[1;33m                 \u001b[1;32mreturn\u001b[0m \u001b[0mself\u001b[0m\u001b[1;33m.\u001b[0m\u001b[0mcopy\u001b[0m\u001b[1;33m(\u001b[0m\u001b[1;33m)\u001b[0m\u001b[1;33m\u001b[0m\u001b[0m\n\u001b[0m\u001b[0;32m   1613\u001b[0m             \u001b[1;32mreturn\u001b[0m \u001b[0mself\u001b[0m\u001b[1;33m\u001b[0m\u001b[0m\n\u001b[0;32m   1614\u001b[0m \u001b[1;33m\u001b[0m\u001b[0m\n",
        "\u001b[1;32m/home/sigbjorn/anaconda/lib/python2.7/site-packages/pandas/core/generic.pyc\u001b[0m in \u001b[0;36mcopy\u001b[1;34m(self, deep)\u001b[0m\n\u001b[0;32m   2114\u001b[0m         \u001b[0mdata\u001b[0m \u001b[1;33m=\u001b[0m \u001b[0mself\u001b[0m\u001b[1;33m.\u001b[0m\u001b[0m_data\u001b[0m\u001b[1;33m\u001b[0m\u001b[0m\n\u001b[0;32m   2115\u001b[0m         \u001b[1;32mif\u001b[0m \u001b[0mdeep\u001b[0m\u001b[1;33m:\u001b[0m\u001b[1;33m\u001b[0m\u001b[0m\n\u001b[1;32m-> 2116\u001b[1;33m             \u001b[0mdata\u001b[0m \u001b[1;33m=\u001b[0m \u001b[0mdata\u001b[0m\u001b[1;33m.\u001b[0m\u001b[0mcopy\u001b[0m\u001b[1;33m(\u001b[0m\u001b[1;33m)\u001b[0m\u001b[1;33m\u001b[0m\u001b[0m\n\u001b[0m\u001b[0;32m   2117\u001b[0m         \u001b[1;32mreturn\u001b[0m \u001b[0mself\u001b[0m\u001b[1;33m.\u001b[0m\u001b[0m_constructor\u001b[0m\u001b[1;33m(\u001b[0m\u001b[0mdata\u001b[0m\u001b[1;33m)\u001b[0m\u001b[1;33m.\u001b[0m\u001b[0m__finalize__\u001b[0m\u001b[1;33m(\u001b[0m\u001b[0mself\u001b[0m\u001b[1;33m)\u001b[0m\u001b[1;33m\u001b[0m\u001b[0m\n\u001b[0;32m   2118\u001b[0m \u001b[1;33m\u001b[0m\u001b[0m\n",
        "\u001b[1;32m/home/sigbjorn/anaconda/lib/python2.7/site-packages/pandas/core/internals.pyc\u001b[0m in \u001b[0;36mcopy\u001b[1;34m(self, deep)\u001b[0m\n\u001b[0;32m   2411\u001b[0m             \u001b[0mnew_axes\u001b[0m \u001b[1;33m=\u001b[0m \u001b[0mlist\u001b[0m\u001b[1;33m(\u001b[0m\u001b[0mself\u001b[0m\u001b[1;33m.\u001b[0m\u001b[0maxes\u001b[0m\u001b[1;33m)\u001b[0m\u001b[1;33m\u001b[0m\u001b[0m\n\u001b[0;32m   2412\u001b[0m         return self.apply('copy', axes=new_axes, deep=deep,\n\u001b[1;32m-> 2413\u001b[1;33m                           do_integrity_check=False)\n\u001b[0m\u001b[0;32m   2414\u001b[0m \u001b[1;33m\u001b[0m\u001b[0m\n\u001b[0;32m   2415\u001b[0m     \u001b[1;32mdef\u001b[0m \u001b[0mas_matrix\u001b[0m\u001b[1;33m(\u001b[0m\u001b[0mself\u001b[0m\u001b[1;33m,\u001b[0m \u001b[0mitems\u001b[0m\u001b[1;33m=\u001b[0m\u001b[0mNone\u001b[0m\u001b[1;33m)\u001b[0m\u001b[1;33m:\u001b[0m\u001b[1;33m\u001b[0m\u001b[0m\n",
        "\u001b[1;32m/home/sigbjorn/anaconda/lib/python2.7/site-packages/pandas/core/internals.pyc\u001b[0m in \u001b[0;36mapply\u001b[1;34m(self, f, axes, filter, do_integrity_check, **kwargs)\u001b[0m\n\u001b[0;32m   2190\u001b[0m                                                  copy=align_copy)\n\u001b[0;32m   2191\u001b[0m \u001b[1;33m\u001b[0m\u001b[0m\n\u001b[1;32m-> 2192\u001b[1;33m             \u001b[0mapplied\u001b[0m \u001b[1;33m=\u001b[0m \u001b[0mgetattr\u001b[0m\u001b[1;33m(\u001b[0m\u001b[0mb\u001b[0m\u001b[1;33m,\u001b[0m \u001b[0mf\u001b[0m\u001b[1;33m)\u001b[0m\u001b[1;33m(\u001b[0m\u001b[1;33m**\u001b[0m\u001b[0mkwargs\u001b[0m\u001b[1;33m)\u001b[0m\u001b[1;33m\u001b[0m\u001b[0m\n\u001b[0m\u001b[0;32m   2193\u001b[0m \u001b[1;33m\u001b[0m\u001b[0m\n\u001b[0;32m   2194\u001b[0m             \u001b[1;32mif\u001b[0m \u001b[0misinstance\u001b[0m\u001b[1;33m(\u001b[0m\u001b[0mapplied\u001b[0m\u001b[1;33m,\u001b[0m \u001b[0mlist\u001b[0m\u001b[1;33m)\u001b[0m\u001b[1;33m:\u001b[0m\u001b[1;33m\u001b[0m\u001b[0m\n",
        "\u001b[1;32m/home/sigbjorn/anaconda/lib/python2.7/site-packages/pandas/core/internals.pyc\u001b[0m in \u001b[0;36mcopy\u001b[1;34m(self, deep)\u001b[0m\n\u001b[0;32m    439\u001b[0m         return make_block(values, ndim=self.ndim,\n\u001b[0;32m    440\u001b[0m                           \u001b[0mklass\u001b[0m\u001b[1;33m=\u001b[0m\u001b[0mself\u001b[0m\u001b[1;33m.\u001b[0m\u001b[0m__class__\u001b[0m\u001b[1;33m,\u001b[0m \u001b[0mfastpath\u001b[0m\u001b[1;33m=\u001b[0m\u001b[0mTrue\u001b[0m\u001b[1;33m,\u001b[0m\u001b[1;33m\u001b[0m\u001b[0m\n\u001b[1;32m--> 441\u001b[1;33m                           placement=self.mgr_locs)\n\u001b[0m\u001b[0;32m    442\u001b[0m \u001b[1;33m\u001b[0m\u001b[0m\n\u001b[0;32m    443\u001b[0m     def replace(self, to_replace, value, inplace=False, filter=None,\n",
        "\u001b[1;32m/home/sigbjorn/anaconda/lib/python2.7/site-packages/pandas/core/internals.pyc\u001b[0m in \u001b[0;36mmake_block\u001b[1;34m(values, placement, klass, ndim, dtype, fastpath)\u001b[0m\n\u001b[0;32m   1845\u001b[0m \u001b[1;33m\u001b[0m\u001b[0m\n\u001b[0;32m   1846\u001b[0m     return klass(values, ndim=ndim, fastpath=fastpath,\n\u001b[1;32m-> 1847\u001b[1;33m                  placement=placement)\n\u001b[0m\u001b[0;32m   1848\u001b[0m \u001b[1;33m\u001b[0m\u001b[0m\n\u001b[0;32m   1849\u001b[0m \u001b[1;33m\u001b[0m\u001b[0m\n",
        "\u001b[1;32m/home/sigbjorn/anaconda/lib/python2.7/site-packages/pandas/core/internals.pyc\u001b[0m in \u001b[0;36m__init__\u001b[1;34m(self, values, placement, ndim, fastpath)\u001b[0m\n\u001b[0;32m     67\u001b[0m         \u001b[0mself\u001b[0m\u001b[1;33m.\u001b[0m\u001b[0mvalues\u001b[0m \u001b[1;33m=\u001b[0m \u001b[0mvalues\u001b[0m\u001b[1;33m\u001b[0m\u001b[0m\n\u001b[0;32m     68\u001b[0m \u001b[1;33m\u001b[0m\u001b[0m\n\u001b[1;32m---> 69\u001b[1;33m         \u001b[1;32mif\u001b[0m \u001b[0mlen\u001b[0m\u001b[1;33m(\u001b[0m\u001b[0mself\u001b[0m\u001b[1;33m.\u001b[0m\u001b[0mmgr_locs\u001b[0m\u001b[1;33m)\u001b[0m \u001b[1;33m!=\u001b[0m \u001b[0mlen\u001b[0m\u001b[1;33m(\u001b[0m\u001b[0mself\u001b[0m\u001b[1;33m.\u001b[0m\u001b[0mvalues\u001b[0m\u001b[1;33m)\u001b[0m\u001b[1;33m:\u001b[0m\u001b[1;33m\u001b[0m\u001b[0m\n\u001b[0m\u001b[0;32m     70\u001b[0m             raise ValueError('Wrong number of items passed %d,'\n\u001b[0;32m     71\u001b[0m                              ' placement implies %d' % (\n",
        "\u001b[1;31mKeyboardInterrupt\u001b[0m: "
       ]
      }
     ],
     "prompt_number": 11
    },
    {
     "cell_type": "code",
     "collapsed": false,
     "input": [],
     "language": "python",
     "metadata": {},
     "outputs": []
    }
   ],
   "metadata": {}
  }
 ]
}